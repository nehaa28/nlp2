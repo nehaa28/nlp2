{
  "nbformat": 4,
  "nbformat_minor": 0,
  "metadata": {
    "colab": {
      "provenance": [],
      "include_colab_link": true
    },
    "kernelspec": {
      "name": "python3",
      "display_name": "Python 3"
    },
    "language_info": {
      "name": "python"
    }
  },
  "cells": [
    {
      "cell_type": "markdown",
      "metadata": {
        "id": "view-in-github",
        "colab_type": "text"
      },
      "source": [
        "<a href=\"https://colab.research.google.com/github/nehaa28/nlp2/blob/main/NLP_assignment_2_group59.ipynb\" target=\"_parent\"><img src=\"https://colab.research.google.com/assets/colab-badge.svg\" alt=\"Open In Colab\"/></a>"
      ]
    },
    {
      "cell_type": "markdown",
      "source": [
        "# Group No - 59\n",
        "\n",
        "# CONTRIBUTION FOR GROUP MEMBERS:\n",
        "- ABHISHEK KUMAR JHA - 100%\n",
        "- ASHUTOSH KUMAR - 100%\n",
        "- LAKSHMI N S - 100%\n",
        "- NEHAA BANSAL - 100%"
      ],
      "metadata": {
        "id": "CbOW2Inlecxm"
      }
    },
    {
      "cell_type": "markdown",
      "source": [
        "#Import Libraries"
      ],
      "metadata": {
        "id": "yCmlST57WIld"
      }
    },
    {
      "cell_type": "code",
      "execution_count": 1,
      "metadata": {
        "id": "aI6aeRxRE7xm"
      },
      "outputs": [],
      "source": [
        "import re\n",
        "import numpy as np\n",
        "import pandas as pd\n",
        "import spacy\n",
        "import string\n",
        "import matplotlib\n",
        "import matplotlib.pyplot as plt\n",
        "import matplotlib.patches as mpatches\n",
        "%matplotlib inline\n",
        "import nltk\n",
        "from nltk.tokenize import word_tokenize\n",
        "from nltk.stem import WordNetLemmatizer\n",
        "from sklearn.feature_extraction.text import TfidfVectorizer\n",
        "from sklearn.feature_extraction.text import CountVectorizer\n",
        "from sklearn import preprocessing\n",
        "from sklearn.model_selection import train_test_split\n",
        "\n",
        "import warnings\n",
        "warnings.filterwarnings(\"ignore\")\n"
      ]
    },
    {
      "cell_type": "markdown",
      "source": [
        "#Import Dataset"
      ],
      "metadata": {
        "id": "_SEcLEboWRIk"
      }
    },
    {
      "cell_type": "markdown",
      "source": [
        "###Download the dataset and Create a dataframe named as fsa, then check the head, info, and describe methods on created dataframe fsa."
      ],
      "metadata": {
        "id": "NKzXRtQwWYoG"
      }
    },
    {
      "cell_type": "code",
      "source": [
        "fsa=pd.read_csv('/content/FinancialSentimentAnalysis.csv')"
      ],
      "metadata": {
        "id": "iWQ7f6rYFnxL"
      },
      "execution_count": 2,
      "outputs": []
    },
    {
      "cell_type": "code",
      "source": [
        "#check the head\n",
        "fsa.head(5)"
      ],
      "metadata": {
        "colab": {
          "base_uri": "https://localhost:8080/",
          "height": 206
        },
        "id": "apYnBKJsFyZd",
        "outputId": "08ad605b-91d6-44e8-a4ae-6d1245b54e1a"
      },
      "execution_count": 3,
      "outputs": [
        {
          "output_type": "execute_result",
          "data": {
            "text/plain": [
              "                                            Sentence Sentiment\n",
              "0  The GeoSolutions technology will leverage Bene...  positive\n",
              "1  $ESI on lows, down $1.50 to $2.50 BK a real po...  negative\n",
              "2  For the last quarter of 2010 , Componenta 's n...  positive\n",
              "3  According to the Finnish-Russian Chamber of Co...   neutral\n",
              "4  The Swedish buyout firm has sold its remaining...   neutral"
            ],
            "text/html": [
              "\n",
              "  <div id=\"df-9ba1472f-de7f-416c-8e2b-03bffca46be2\" class=\"colab-df-container\">\n",
              "    <div>\n",
              "<style scoped>\n",
              "    .dataframe tbody tr th:only-of-type {\n",
              "        vertical-align: middle;\n",
              "    }\n",
              "\n",
              "    .dataframe tbody tr th {\n",
              "        vertical-align: top;\n",
              "    }\n",
              "\n",
              "    .dataframe thead th {\n",
              "        text-align: right;\n",
              "    }\n",
              "</style>\n",
              "<table border=\"1\" class=\"dataframe\">\n",
              "  <thead>\n",
              "    <tr style=\"text-align: right;\">\n",
              "      <th></th>\n",
              "      <th>Sentence</th>\n",
              "      <th>Sentiment</th>\n",
              "    </tr>\n",
              "  </thead>\n",
              "  <tbody>\n",
              "    <tr>\n",
              "      <th>0</th>\n",
              "      <td>The GeoSolutions technology will leverage Bene...</td>\n",
              "      <td>positive</td>\n",
              "    </tr>\n",
              "    <tr>\n",
              "      <th>1</th>\n",
              "      <td>$ESI on lows, down $1.50 to $2.50 BK a real po...</td>\n",
              "      <td>negative</td>\n",
              "    </tr>\n",
              "    <tr>\n",
              "      <th>2</th>\n",
              "      <td>For the last quarter of 2010 , Componenta 's n...</td>\n",
              "      <td>positive</td>\n",
              "    </tr>\n",
              "    <tr>\n",
              "      <th>3</th>\n",
              "      <td>According to the Finnish-Russian Chamber of Co...</td>\n",
              "      <td>neutral</td>\n",
              "    </tr>\n",
              "    <tr>\n",
              "      <th>4</th>\n",
              "      <td>The Swedish buyout firm has sold its remaining...</td>\n",
              "      <td>neutral</td>\n",
              "    </tr>\n",
              "  </tbody>\n",
              "</table>\n",
              "</div>\n",
              "    <div class=\"colab-df-buttons\">\n",
              "\n",
              "  <div class=\"colab-df-container\">\n",
              "    <button class=\"colab-df-convert\" onclick=\"convertToInteractive('df-9ba1472f-de7f-416c-8e2b-03bffca46be2')\"\n",
              "            title=\"Convert this dataframe to an interactive table.\"\n",
              "            style=\"display:none;\">\n",
              "\n",
              "  <svg xmlns=\"http://www.w3.org/2000/svg\" height=\"24px\" viewBox=\"0 -960 960 960\">\n",
              "    <path d=\"M120-120v-720h720v720H120Zm60-500h600v-160H180v160Zm220 220h160v-160H400v160Zm0 220h160v-160H400v160ZM180-400h160v-160H180v160Zm440 0h160v-160H620v160ZM180-180h160v-160H180v160Zm440 0h160v-160H620v160Z\"/>\n",
              "  </svg>\n",
              "    </button>\n",
              "\n",
              "  <style>\n",
              "    .colab-df-container {\n",
              "      display:flex;\n",
              "      gap: 12px;\n",
              "    }\n",
              "\n",
              "    .colab-df-convert {\n",
              "      background-color: #E8F0FE;\n",
              "      border: none;\n",
              "      border-radius: 50%;\n",
              "      cursor: pointer;\n",
              "      display: none;\n",
              "      fill: #1967D2;\n",
              "      height: 32px;\n",
              "      padding: 0 0 0 0;\n",
              "      width: 32px;\n",
              "    }\n",
              "\n",
              "    .colab-df-convert:hover {\n",
              "      background-color: #E2EBFA;\n",
              "      box-shadow: 0px 1px 2px rgba(60, 64, 67, 0.3), 0px 1px 3px 1px rgba(60, 64, 67, 0.15);\n",
              "      fill: #174EA6;\n",
              "    }\n",
              "\n",
              "    .colab-df-buttons div {\n",
              "      margin-bottom: 4px;\n",
              "    }\n",
              "\n",
              "    [theme=dark] .colab-df-convert {\n",
              "      background-color: #3B4455;\n",
              "      fill: #D2E3FC;\n",
              "    }\n",
              "\n",
              "    [theme=dark] .colab-df-convert:hover {\n",
              "      background-color: #434B5C;\n",
              "      box-shadow: 0px 1px 3px 1px rgba(0, 0, 0, 0.15);\n",
              "      filter: drop-shadow(0px 1px 2px rgba(0, 0, 0, 0.3));\n",
              "      fill: #FFFFFF;\n",
              "    }\n",
              "  </style>\n",
              "\n",
              "    <script>\n",
              "      const buttonEl =\n",
              "        document.querySelector('#df-9ba1472f-de7f-416c-8e2b-03bffca46be2 button.colab-df-convert');\n",
              "      buttonEl.style.display =\n",
              "        google.colab.kernel.accessAllowed ? 'block' : 'none';\n",
              "\n",
              "      async function convertToInteractive(key) {\n",
              "        const element = document.querySelector('#df-9ba1472f-de7f-416c-8e2b-03bffca46be2');\n",
              "        const dataTable =\n",
              "          await google.colab.kernel.invokeFunction('convertToInteractive',\n",
              "                                                    [key], {});\n",
              "        if (!dataTable) return;\n",
              "\n",
              "        const docLinkHtml = 'Like what you see? Visit the ' +\n",
              "          '<a target=\"_blank\" href=https://colab.research.google.com/notebooks/data_table.ipynb>data table notebook</a>'\n",
              "          + ' to learn more about interactive tables.';\n",
              "        element.innerHTML = '';\n",
              "        dataTable['output_type'] = 'display_data';\n",
              "        await google.colab.output.renderOutput(dataTable, element);\n",
              "        const docLink = document.createElement('div');\n",
              "        docLink.innerHTML = docLinkHtml;\n",
              "        element.appendChild(docLink);\n",
              "      }\n",
              "    </script>\n",
              "  </div>\n",
              "\n",
              "\n",
              "<div id=\"df-dd96a763-6194-4a71-aa3b-6d71a8a6b48e\">\n",
              "  <button class=\"colab-df-quickchart\" onclick=\"quickchart('df-dd96a763-6194-4a71-aa3b-6d71a8a6b48e')\"\n",
              "            title=\"Suggest charts.\"\n",
              "            style=\"display:none;\">\n",
              "\n",
              "<svg xmlns=\"http://www.w3.org/2000/svg\" height=\"24px\"viewBox=\"0 0 24 24\"\n",
              "     width=\"24px\">\n",
              "    <g>\n",
              "        <path d=\"M19 3H5c-1.1 0-2 .9-2 2v14c0 1.1.9 2 2 2h14c1.1 0 2-.9 2-2V5c0-1.1-.9-2-2-2zM9 17H7v-7h2v7zm4 0h-2V7h2v10zm4 0h-2v-4h2v4z\"/>\n",
              "    </g>\n",
              "</svg>\n",
              "  </button>\n",
              "\n",
              "<style>\n",
              "  .colab-df-quickchart {\n",
              "      --bg-color: #E8F0FE;\n",
              "      --fill-color: #1967D2;\n",
              "      --hover-bg-color: #E2EBFA;\n",
              "      --hover-fill-color: #174EA6;\n",
              "      --disabled-fill-color: #AAA;\n",
              "      --disabled-bg-color: #DDD;\n",
              "  }\n",
              "\n",
              "  [theme=dark] .colab-df-quickchart {\n",
              "      --bg-color: #3B4455;\n",
              "      --fill-color: #D2E3FC;\n",
              "      --hover-bg-color: #434B5C;\n",
              "      --hover-fill-color: #FFFFFF;\n",
              "      --disabled-bg-color: #3B4455;\n",
              "      --disabled-fill-color: #666;\n",
              "  }\n",
              "\n",
              "  .colab-df-quickchart {\n",
              "    background-color: var(--bg-color);\n",
              "    border: none;\n",
              "    border-radius: 50%;\n",
              "    cursor: pointer;\n",
              "    display: none;\n",
              "    fill: var(--fill-color);\n",
              "    height: 32px;\n",
              "    padding: 0;\n",
              "    width: 32px;\n",
              "  }\n",
              "\n",
              "  .colab-df-quickchart:hover {\n",
              "    background-color: var(--hover-bg-color);\n",
              "    box-shadow: 0 1px 2px rgba(60, 64, 67, 0.3), 0 1px 3px 1px rgba(60, 64, 67, 0.15);\n",
              "    fill: var(--button-hover-fill-color);\n",
              "  }\n",
              "\n",
              "  .colab-df-quickchart-complete:disabled,\n",
              "  .colab-df-quickchart-complete:disabled:hover {\n",
              "    background-color: var(--disabled-bg-color);\n",
              "    fill: var(--disabled-fill-color);\n",
              "    box-shadow: none;\n",
              "  }\n",
              "\n",
              "  .colab-df-spinner {\n",
              "    border: 2px solid var(--fill-color);\n",
              "    border-color: transparent;\n",
              "    border-bottom-color: var(--fill-color);\n",
              "    animation:\n",
              "      spin 1s steps(1) infinite;\n",
              "  }\n",
              "\n",
              "  @keyframes spin {\n",
              "    0% {\n",
              "      border-color: transparent;\n",
              "      border-bottom-color: var(--fill-color);\n",
              "      border-left-color: var(--fill-color);\n",
              "    }\n",
              "    20% {\n",
              "      border-color: transparent;\n",
              "      border-left-color: var(--fill-color);\n",
              "      border-top-color: var(--fill-color);\n",
              "    }\n",
              "    30% {\n",
              "      border-color: transparent;\n",
              "      border-left-color: var(--fill-color);\n",
              "      border-top-color: var(--fill-color);\n",
              "      border-right-color: var(--fill-color);\n",
              "    }\n",
              "    40% {\n",
              "      border-color: transparent;\n",
              "      border-right-color: var(--fill-color);\n",
              "      border-top-color: var(--fill-color);\n",
              "    }\n",
              "    60% {\n",
              "      border-color: transparent;\n",
              "      border-right-color: var(--fill-color);\n",
              "    }\n",
              "    80% {\n",
              "      border-color: transparent;\n",
              "      border-right-color: var(--fill-color);\n",
              "      border-bottom-color: var(--fill-color);\n",
              "    }\n",
              "    90% {\n",
              "      border-color: transparent;\n",
              "      border-bottom-color: var(--fill-color);\n",
              "    }\n",
              "  }\n",
              "</style>\n",
              "\n",
              "  <script>\n",
              "    async function quickchart(key) {\n",
              "      const quickchartButtonEl =\n",
              "        document.querySelector('#' + key + ' button');\n",
              "      quickchartButtonEl.disabled = true;  // To prevent multiple clicks.\n",
              "      quickchartButtonEl.classList.add('colab-df-spinner');\n",
              "      try {\n",
              "        const charts = await google.colab.kernel.invokeFunction(\n",
              "            'suggestCharts', [key], {});\n",
              "      } catch (error) {\n",
              "        console.error('Error during call to suggestCharts:', error);\n",
              "      }\n",
              "      quickchartButtonEl.classList.remove('colab-df-spinner');\n",
              "      quickchartButtonEl.classList.add('colab-df-quickchart-complete');\n",
              "    }\n",
              "    (() => {\n",
              "      let quickchartButtonEl =\n",
              "        document.querySelector('#df-dd96a763-6194-4a71-aa3b-6d71a8a6b48e button');\n",
              "      quickchartButtonEl.style.display =\n",
              "        google.colab.kernel.accessAllowed ? 'block' : 'none';\n",
              "    })();\n",
              "  </script>\n",
              "</div>\n",
              "    </div>\n",
              "  </div>\n"
            ]
          },
          "metadata": {},
          "execution_count": 3
        }
      ]
    },
    {
      "cell_type": "code",
      "source": [
        "#check the info\n",
        "fsa.info"
      ],
      "metadata": {
        "colab": {
          "base_uri": "https://localhost:8080/"
        },
        "id": "CkG5X8hPF2fp",
        "outputId": "09204de7-e5f4-48f4-afa6-fe8ddf70c87e"
      },
      "execution_count": 4,
      "outputs": [
        {
          "output_type": "execute_result",
          "data": {
            "text/plain": [
              "<bound method DataFrame.info of                                                Sentence Sentiment\n",
              "0     The GeoSolutions technology will leverage Bene...  positive\n",
              "1     $ESI on lows, down $1.50 to $2.50 BK a real po...  negative\n",
              "2     For the last quarter of 2010 , Componenta 's n...  positive\n",
              "3     According to the Finnish-Russian Chamber of Co...   neutral\n",
              "4     The Swedish buyout firm has sold its remaining...   neutral\n",
              "...                                                 ...       ...\n",
              "5837  RISING costs have forced packaging producer Hu...  negative\n",
              "5838  Nordic Walking was first used as a summer trai...   neutral\n",
              "5839  According shipping company Viking Line , the E...   neutral\n",
              "5840  In the building and home improvement trade , s...   neutral\n",
              "5841  HELSINKI AFX - KCI Konecranes said it has won ...  positive\n",
              "\n",
              "[5842 rows x 2 columns]>"
            ]
          },
          "metadata": {},
          "execution_count": 4
        }
      ]
    },
    {
      "cell_type": "code",
      "source": [
        "#apply describe methods on created dataframe fsa\n",
        "fsa.describe"
      ],
      "metadata": {
        "colab": {
          "base_uri": "https://localhost:8080/"
        },
        "id": "umCuOp7uF9uj",
        "outputId": "312e5bfe-da06-4768-a076-f0ebc07ea15d"
      },
      "execution_count": 5,
      "outputs": [
        {
          "output_type": "execute_result",
          "data": {
            "text/plain": [
              "<bound method NDFrame.describe of                                                Sentence Sentiment\n",
              "0     The GeoSolutions technology will leverage Bene...  positive\n",
              "1     $ESI on lows, down $1.50 to $2.50 BK a real po...  negative\n",
              "2     For the last quarter of 2010 , Componenta 's n...  positive\n",
              "3     According to the Finnish-Russian Chamber of Co...   neutral\n",
              "4     The Swedish buyout firm has sold its remaining...   neutral\n",
              "...                                                 ...       ...\n",
              "5837  RISING costs have forced packaging producer Hu...  negative\n",
              "5838  Nordic Walking was first used as a summer trai...   neutral\n",
              "5839  According shipping company Viking Line , the E...   neutral\n",
              "5840  In the building and home improvement trade , s...   neutral\n",
              "5841  HELSINKI AFX - KCI Konecranes said it has won ...  positive\n",
              "\n",
              "[5842 rows x 2 columns]>"
            ]
          },
          "metadata": {},
          "execution_count": 5
        }
      ]
    },
    {
      "cell_type": "markdown",
      "source": [
        "# Perform pre-processing steps like Removing Punctuations, Numbers, and Special Characters, Stop Words in dataset."
      ],
      "metadata": {
        "id": "D7F24qixGWpG"
      }
    },
    {
      "cell_type": "code",
      "source": [
        "punctuation = string.punctuation\n",
        "print(punctuation)\n",
        "\n",
        "def remove_punctuation(text):\n",
        "    return text.translate(str.maketrans('', '', punctuation))\n",
        "\n",
        "fsa[\"cleaned_sentence\"] = fsa[\"Sentence\"].apply(lambda text: remove_punctuation(text))\n",
        "fsa['cleaned_sentence'].head()"
      ],
      "metadata": {
        "colab": {
          "base_uri": "https://localhost:8080/"
        },
        "id": "wYSx5jxqGAOt",
        "outputId": "00ab5b14-5e77-4b01-c058-1cd15c872d70"
      },
      "execution_count": 6,
      "outputs": [
        {
          "output_type": "stream",
          "name": "stdout",
          "text": [
            "!\"#$%&'()*+,-./:;<=>?@[\\]^_`{|}~\n"
          ]
        },
        {
          "output_type": "execute_result",
          "data": {
            "text/plain": [
              "0    The GeoSolutions technology will leverage Bene...\n",
              "1    ESI on lows down 150 to 250 BK a real possibility\n",
              "2    For the last quarter of 2010  Componenta s net...\n",
              "3    According to the FinnishRussian Chamber of Com...\n",
              "4    The Swedish buyout firm has sold its remaining...\n",
              "Name: cleaned_sentence, dtype: object"
            ]
          },
          "metadata": {},
          "execution_count": 6
        }
      ]
    },
    {
      "cell_type": "code",
      "source": [
        "from string import digits\n",
        "\n",
        "def remove_digits(text):\n",
        "    return text.translate(str.maketrans('', '', digits))\n",
        "\n",
        "fsa[\"cleaned_sentence\"] = fsa[\"cleaned_sentence\"].apply(lambda text: remove_digits(text))\n",
        "fsa['cleaned_sentence'].head()"
      ],
      "metadata": {
        "colab": {
          "base_uri": "https://localhost:8080/"
        },
        "id": "fHtY_9eQGARk",
        "outputId": "3731fc34-1957-4705-8fea-9dca175ab124"
      },
      "execution_count": 7,
      "outputs": [
        {
          "output_type": "execute_result",
          "data": {
            "text/plain": [
              "0    The GeoSolutions technology will leverage Bene...\n",
              "1          ESI on lows down  to  BK a real possibility\n",
              "2    For the last quarter of   Componenta s net sal...\n",
              "3    According to the FinnishRussian Chamber of Com...\n",
              "4    The Swedish buyout firm has sold its remaining...\n",
              "Name: cleaned_sentence, dtype: object"
            ]
          },
          "metadata": {},
          "execution_count": 7
        }
      ]
    },
    {
      "cell_type": "code",
      "source": [
        "import unicodedata\n",
        "def remove_accented_chars(text):\n",
        "  text = unicodedata.normalize('NFKD', text).encode('ascii', 'ignore').decode('utf-8', 'ignore')\n",
        "  return text\n",
        "\n",
        "fsa[\"cleaned_sentence\"]  = fsa[\"cleaned_sentence\"].apply(lambda text: remove_accented_chars(text))\n",
        "fsa[\"cleaned_sentence\"]"
      ],
      "metadata": {
        "colab": {
          "base_uri": "https://localhost:8080/"
        },
        "id": "j9Tw3YH0O17u",
        "outputId": "a80678d2-c212-45b7-cf32-aa6b15adc629"
      },
      "execution_count": 8,
      "outputs": [
        {
          "output_type": "execute_result",
          "data": {
            "text/plain": [
              "0       The GeoSolutions technology will leverage Bene...\n",
              "1             ESI on lows down  to  BK a real possibility\n",
              "2       For the last quarter of   Componenta s net sal...\n",
              "3       According to the FinnishRussian Chamber of Com...\n",
              "4       The Swedish buyout firm has sold its remaining...\n",
              "                              ...                        \n",
              "5837    RISING costs have forced packaging producer Hu...\n",
              "5838    Nordic Walking was first used as a summer trai...\n",
              "5839    According shipping company Viking Line  the EU...\n",
              "5840    In the building and home improvement trade  sa...\n",
              "5841    HELSINKI AFX  KCI Konecranes said it has won a...\n",
              "Name: cleaned_sentence, Length: 5842, dtype: object"
            ]
          },
          "metadata": {},
          "execution_count": 8
        }
      ]
    },
    {
      "cell_type": "code",
      "source": [
        "import nltk\n",
        "nltk.download('stopwords')"
      ],
      "metadata": {
        "colab": {
          "base_uri": "https://localhost:8080/"
        },
        "id": "uOoTEf9JPli_",
        "outputId": "068acbcc-18c2-40cb-c6d9-58eaf9302e38"
      },
      "execution_count": 9,
      "outputs": [
        {
          "output_type": "stream",
          "name": "stderr",
          "text": [
            "[nltk_data] Downloading package stopwords to /root/nltk_data...\n",
            "[nltk_data]   Unzipping corpora/stopwords.zip.\n"
          ]
        },
        {
          "output_type": "execute_result",
          "data": {
            "text/plain": [
              "True"
            ]
          },
          "metadata": {},
          "execution_count": 9
        }
      ]
    },
    {
      "cell_type": "code",
      "source": [
        "from nltk.corpus import stopwords\n",
        "\n",
        "stopwords = stopwords.words('english')\n",
        "print(stopwords)\n",
        "\n",
        "\n",
        "def remove_stopwords(text):\n",
        "    return \" \".join([word for word in str(text).split() if word.lower() not in stopwords])  #List Comprehension\n",
        "\n",
        "\n",
        "fsa[\"cleaned_sentence\"] = fsa[\"cleaned_sentence\"].apply(lambda text: remove_stopwords(text))\n",
        "fsa['cleaned_sentence'].head()"
      ],
      "metadata": {
        "colab": {
          "base_uri": "https://localhost:8080/"
        },
        "id": "0IvMKQWOO1-d",
        "outputId": "566293e4-a6d8-42af-e88f-c010b7cb3cae"
      },
      "execution_count": 10,
      "outputs": [
        {
          "output_type": "stream",
          "name": "stdout",
          "text": [
            "['i', 'me', 'my', 'myself', 'we', 'our', 'ours', 'ourselves', 'you', \"you're\", \"you've\", \"you'll\", \"you'd\", 'your', 'yours', 'yourself', 'yourselves', 'he', 'him', 'his', 'himself', 'she', \"she's\", 'her', 'hers', 'herself', 'it', \"it's\", 'its', 'itself', 'they', 'them', 'their', 'theirs', 'themselves', 'what', 'which', 'who', 'whom', 'this', 'that', \"that'll\", 'these', 'those', 'am', 'is', 'are', 'was', 'were', 'be', 'been', 'being', 'have', 'has', 'had', 'having', 'do', 'does', 'did', 'doing', 'a', 'an', 'the', 'and', 'but', 'if', 'or', 'because', 'as', 'until', 'while', 'of', 'at', 'by', 'for', 'with', 'about', 'against', 'between', 'into', 'through', 'during', 'before', 'after', 'above', 'below', 'to', 'from', 'up', 'down', 'in', 'out', 'on', 'off', 'over', 'under', 'again', 'further', 'then', 'once', 'here', 'there', 'when', 'where', 'why', 'how', 'all', 'any', 'both', 'each', 'few', 'more', 'most', 'other', 'some', 'such', 'no', 'nor', 'not', 'only', 'own', 'same', 'so', 'than', 'too', 'very', 's', 't', 'can', 'will', 'just', 'don', \"don't\", 'should', \"should've\", 'now', 'd', 'll', 'm', 'o', 're', 've', 'y', 'ain', 'aren', \"aren't\", 'couldn', \"couldn't\", 'didn', \"didn't\", 'doesn', \"doesn't\", 'hadn', \"hadn't\", 'hasn', \"hasn't\", 'haven', \"haven't\", 'isn', \"isn't\", 'ma', 'mightn', \"mightn't\", 'mustn', \"mustn't\", 'needn', \"needn't\", 'shan', \"shan't\", 'shouldn', \"shouldn't\", 'wasn', \"wasn't\", 'weren', \"weren't\", 'won', \"won't\", 'wouldn', \"wouldn't\"]\n"
          ]
        },
        {
          "output_type": "execute_result",
          "data": {
            "text/plain": [
              "0    GeoSolutions technology leverage Benefon GPS s...\n",
              "1                         ESI lows BK real possibility\n",
              "2    last quarter Componenta net sales doubled EURm...\n",
              "3    According FinnishRussian Chamber Commerce majo...\n",
              "4    Swedish buyout firm sold remaining percent sta...\n",
              "Name: cleaned_sentence, dtype: object"
            ]
          },
          "metadata": {},
          "execution_count": 10
        }
      ]
    },
    {
      "cell_type": "code",
      "source": [
        "def remove_whitespace(text):\n",
        "    return  \" \".join(text.split())\n",
        "\n",
        "fsa[\"cleaned_sentence\"] = fsa[\"cleaned_sentence\"].apply(lambda text: remove_whitespace(text))\n",
        "fsa[\"cleaned_sentence\"].head()"
      ],
      "metadata": {
        "colab": {
          "base_uri": "https://localhost:8080/"
        },
        "id": "NzOVn8e1P3Ae",
        "outputId": "60677d79-0020-4486-e9c9-5ac7f091d2fd"
      },
      "execution_count": 11,
      "outputs": [
        {
          "output_type": "execute_result",
          "data": {
            "text/plain": [
              "0    GeoSolutions technology leverage Benefon GPS s...\n",
              "1                         ESI lows BK real possibility\n",
              "2    last quarter Componenta net sales doubled EURm...\n",
              "3    According FinnishRussian Chamber Commerce majo...\n",
              "4    Swedish buyout firm sold remaining percent sta...\n",
              "Name: cleaned_sentence, dtype: object"
            ]
          },
          "metadata": {},
          "execution_count": 11
        }
      ]
    },
    {
      "cell_type": "code",
      "source": [
        "def remove_data(text):\n",
        "    url_pattern = re.compile(r'[^a-zA-Z\\s]')\n",
        "    return url_pattern.sub(r'', text)\n",
        "\n",
        "fsa['cleaned_sentence']=fsa['cleaned_sentence'].apply(lambda x: remove_data(x))\n",
        "fsa['cleaned_sentence']"
      ],
      "metadata": {
        "colab": {
          "base_uri": "https://localhost:8080/"
        },
        "id": "XnvSfzTzO2B9",
        "outputId": "69244b12-e38e-4b20-e83b-2c5a6a01e65b"
      },
      "execution_count": 12,
      "outputs": [
        {
          "output_type": "execute_result",
          "data": {
            "text/plain": [
              "0       GeoSolutions technology leverage Benefon GPS s...\n",
              "1                            ESI lows BK real possibility\n",
              "2       last quarter Componenta net sales doubled EURm...\n",
              "3       According FinnishRussian Chamber Commerce majo...\n",
              "4       Swedish buyout firm sold remaining percent sta...\n",
              "                              ...                        \n",
              "5837    RISING costs forced packaging producer Huhtama...\n",
              "5838    Nordic Walking first used summer training meth...\n",
              "5839    According shipping company Viking Line EU deci...\n",
              "5840    building home improvement trade sales decrease...\n",
              "5841    HELSINKI AFX KCI Konecranes said order four ho...\n",
              "Name: cleaned_sentence, Length: 5842, dtype: object"
            ]
          },
          "metadata": {},
          "execution_count": 12
        }
      ]
    },
    {
      "cell_type": "code",
      "source": [
        "fsa.head(5)"
      ],
      "metadata": {
        "colab": {
          "base_uri": "https://localhost:8080/",
          "height": 206
        },
        "id": "zHiFO1AUOB2f",
        "outputId": "f2f53d76-7f85-4a32-a2e3-7e0368f67a2f"
      },
      "execution_count": 13,
      "outputs": [
        {
          "output_type": "execute_result",
          "data": {
            "text/plain": [
              "                                            Sentence Sentiment  \\\n",
              "0  The GeoSolutions technology will leverage Bene...  positive   \n",
              "1  $ESI on lows, down $1.50 to $2.50 BK a real po...  negative   \n",
              "2  For the last quarter of 2010 , Componenta 's n...  positive   \n",
              "3  According to the Finnish-Russian Chamber of Co...   neutral   \n",
              "4  The Swedish buyout firm has sold its remaining...   neutral   \n",
              "\n",
              "                                    cleaned_sentence  \n",
              "0  GeoSolutions technology leverage Benefon GPS s...  \n",
              "1                       ESI lows BK real possibility  \n",
              "2  last quarter Componenta net sales doubled EURm...  \n",
              "3  According FinnishRussian Chamber Commerce majo...  \n",
              "4  Swedish buyout firm sold remaining percent sta...  "
            ],
            "text/html": [
              "\n",
              "  <div id=\"df-f9786213-3fe7-4b80-9bba-0b0ccd2cafda\" class=\"colab-df-container\">\n",
              "    <div>\n",
              "<style scoped>\n",
              "    .dataframe tbody tr th:only-of-type {\n",
              "        vertical-align: middle;\n",
              "    }\n",
              "\n",
              "    .dataframe tbody tr th {\n",
              "        vertical-align: top;\n",
              "    }\n",
              "\n",
              "    .dataframe thead th {\n",
              "        text-align: right;\n",
              "    }\n",
              "</style>\n",
              "<table border=\"1\" class=\"dataframe\">\n",
              "  <thead>\n",
              "    <tr style=\"text-align: right;\">\n",
              "      <th></th>\n",
              "      <th>Sentence</th>\n",
              "      <th>Sentiment</th>\n",
              "      <th>cleaned_sentence</th>\n",
              "    </tr>\n",
              "  </thead>\n",
              "  <tbody>\n",
              "    <tr>\n",
              "      <th>0</th>\n",
              "      <td>The GeoSolutions technology will leverage Bene...</td>\n",
              "      <td>positive</td>\n",
              "      <td>GeoSolutions technology leverage Benefon GPS s...</td>\n",
              "    </tr>\n",
              "    <tr>\n",
              "      <th>1</th>\n",
              "      <td>$ESI on lows, down $1.50 to $2.50 BK a real po...</td>\n",
              "      <td>negative</td>\n",
              "      <td>ESI lows BK real possibility</td>\n",
              "    </tr>\n",
              "    <tr>\n",
              "      <th>2</th>\n",
              "      <td>For the last quarter of 2010 , Componenta 's n...</td>\n",
              "      <td>positive</td>\n",
              "      <td>last quarter Componenta net sales doubled EURm...</td>\n",
              "    </tr>\n",
              "    <tr>\n",
              "      <th>3</th>\n",
              "      <td>According to the Finnish-Russian Chamber of Co...</td>\n",
              "      <td>neutral</td>\n",
              "      <td>According FinnishRussian Chamber Commerce majo...</td>\n",
              "    </tr>\n",
              "    <tr>\n",
              "      <th>4</th>\n",
              "      <td>The Swedish buyout firm has sold its remaining...</td>\n",
              "      <td>neutral</td>\n",
              "      <td>Swedish buyout firm sold remaining percent sta...</td>\n",
              "    </tr>\n",
              "  </tbody>\n",
              "</table>\n",
              "</div>\n",
              "    <div class=\"colab-df-buttons\">\n",
              "\n",
              "  <div class=\"colab-df-container\">\n",
              "    <button class=\"colab-df-convert\" onclick=\"convertToInteractive('df-f9786213-3fe7-4b80-9bba-0b0ccd2cafda')\"\n",
              "            title=\"Convert this dataframe to an interactive table.\"\n",
              "            style=\"display:none;\">\n",
              "\n",
              "  <svg xmlns=\"http://www.w3.org/2000/svg\" height=\"24px\" viewBox=\"0 -960 960 960\">\n",
              "    <path d=\"M120-120v-720h720v720H120Zm60-500h600v-160H180v160Zm220 220h160v-160H400v160Zm0 220h160v-160H400v160ZM180-400h160v-160H180v160Zm440 0h160v-160H620v160ZM180-180h160v-160H180v160Zm440 0h160v-160H620v160Z\"/>\n",
              "  </svg>\n",
              "    </button>\n",
              "\n",
              "  <style>\n",
              "    .colab-df-container {\n",
              "      display:flex;\n",
              "      gap: 12px;\n",
              "    }\n",
              "\n",
              "    .colab-df-convert {\n",
              "      background-color: #E8F0FE;\n",
              "      border: none;\n",
              "      border-radius: 50%;\n",
              "      cursor: pointer;\n",
              "      display: none;\n",
              "      fill: #1967D2;\n",
              "      height: 32px;\n",
              "      padding: 0 0 0 0;\n",
              "      width: 32px;\n",
              "    }\n",
              "\n",
              "    .colab-df-convert:hover {\n",
              "      background-color: #E2EBFA;\n",
              "      box-shadow: 0px 1px 2px rgba(60, 64, 67, 0.3), 0px 1px 3px 1px rgba(60, 64, 67, 0.15);\n",
              "      fill: #174EA6;\n",
              "    }\n",
              "\n",
              "    .colab-df-buttons div {\n",
              "      margin-bottom: 4px;\n",
              "    }\n",
              "\n",
              "    [theme=dark] .colab-df-convert {\n",
              "      background-color: #3B4455;\n",
              "      fill: #D2E3FC;\n",
              "    }\n",
              "\n",
              "    [theme=dark] .colab-df-convert:hover {\n",
              "      background-color: #434B5C;\n",
              "      box-shadow: 0px 1px 3px 1px rgba(0, 0, 0, 0.15);\n",
              "      filter: drop-shadow(0px 1px 2px rgba(0, 0, 0, 0.3));\n",
              "      fill: #FFFFFF;\n",
              "    }\n",
              "  </style>\n",
              "\n",
              "    <script>\n",
              "      const buttonEl =\n",
              "        document.querySelector('#df-f9786213-3fe7-4b80-9bba-0b0ccd2cafda button.colab-df-convert');\n",
              "      buttonEl.style.display =\n",
              "        google.colab.kernel.accessAllowed ? 'block' : 'none';\n",
              "\n",
              "      async function convertToInteractive(key) {\n",
              "        const element = document.querySelector('#df-f9786213-3fe7-4b80-9bba-0b0ccd2cafda');\n",
              "        const dataTable =\n",
              "          await google.colab.kernel.invokeFunction('convertToInteractive',\n",
              "                                                    [key], {});\n",
              "        if (!dataTable) return;\n",
              "\n",
              "        const docLinkHtml = 'Like what you see? Visit the ' +\n",
              "          '<a target=\"_blank\" href=https://colab.research.google.com/notebooks/data_table.ipynb>data table notebook</a>'\n",
              "          + ' to learn more about interactive tables.';\n",
              "        element.innerHTML = '';\n",
              "        dataTable['output_type'] = 'display_data';\n",
              "        await google.colab.output.renderOutput(dataTable, element);\n",
              "        const docLink = document.createElement('div');\n",
              "        docLink.innerHTML = docLinkHtml;\n",
              "        element.appendChild(docLink);\n",
              "      }\n",
              "    </script>\n",
              "  </div>\n",
              "\n",
              "\n",
              "<div id=\"df-c687b267-cf00-4cd0-a55a-315ea650ef3e\">\n",
              "  <button class=\"colab-df-quickchart\" onclick=\"quickchart('df-c687b267-cf00-4cd0-a55a-315ea650ef3e')\"\n",
              "            title=\"Suggest charts.\"\n",
              "            style=\"display:none;\">\n",
              "\n",
              "<svg xmlns=\"http://www.w3.org/2000/svg\" height=\"24px\"viewBox=\"0 0 24 24\"\n",
              "     width=\"24px\">\n",
              "    <g>\n",
              "        <path d=\"M19 3H5c-1.1 0-2 .9-2 2v14c0 1.1.9 2 2 2h14c1.1 0 2-.9 2-2V5c0-1.1-.9-2-2-2zM9 17H7v-7h2v7zm4 0h-2V7h2v10zm4 0h-2v-4h2v4z\"/>\n",
              "    </g>\n",
              "</svg>\n",
              "  </button>\n",
              "\n",
              "<style>\n",
              "  .colab-df-quickchart {\n",
              "      --bg-color: #E8F0FE;\n",
              "      --fill-color: #1967D2;\n",
              "      --hover-bg-color: #E2EBFA;\n",
              "      --hover-fill-color: #174EA6;\n",
              "      --disabled-fill-color: #AAA;\n",
              "      --disabled-bg-color: #DDD;\n",
              "  }\n",
              "\n",
              "  [theme=dark] .colab-df-quickchart {\n",
              "      --bg-color: #3B4455;\n",
              "      --fill-color: #D2E3FC;\n",
              "      --hover-bg-color: #434B5C;\n",
              "      --hover-fill-color: #FFFFFF;\n",
              "      --disabled-bg-color: #3B4455;\n",
              "      --disabled-fill-color: #666;\n",
              "  }\n",
              "\n",
              "  .colab-df-quickchart {\n",
              "    background-color: var(--bg-color);\n",
              "    border: none;\n",
              "    border-radius: 50%;\n",
              "    cursor: pointer;\n",
              "    display: none;\n",
              "    fill: var(--fill-color);\n",
              "    height: 32px;\n",
              "    padding: 0;\n",
              "    width: 32px;\n",
              "  }\n",
              "\n",
              "  .colab-df-quickchart:hover {\n",
              "    background-color: var(--hover-bg-color);\n",
              "    box-shadow: 0 1px 2px rgba(60, 64, 67, 0.3), 0 1px 3px 1px rgba(60, 64, 67, 0.15);\n",
              "    fill: var(--button-hover-fill-color);\n",
              "  }\n",
              "\n",
              "  .colab-df-quickchart-complete:disabled,\n",
              "  .colab-df-quickchart-complete:disabled:hover {\n",
              "    background-color: var(--disabled-bg-color);\n",
              "    fill: var(--disabled-fill-color);\n",
              "    box-shadow: none;\n",
              "  }\n",
              "\n",
              "  .colab-df-spinner {\n",
              "    border: 2px solid var(--fill-color);\n",
              "    border-color: transparent;\n",
              "    border-bottom-color: var(--fill-color);\n",
              "    animation:\n",
              "      spin 1s steps(1) infinite;\n",
              "  }\n",
              "\n",
              "  @keyframes spin {\n",
              "    0% {\n",
              "      border-color: transparent;\n",
              "      border-bottom-color: var(--fill-color);\n",
              "      border-left-color: var(--fill-color);\n",
              "    }\n",
              "    20% {\n",
              "      border-color: transparent;\n",
              "      border-left-color: var(--fill-color);\n",
              "      border-top-color: var(--fill-color);\n",
              "    }\n",
              "    30% {\n",
              "      border-color: transparent;\n",
              "      border-left-color: var(--fill-color);\n",
              "      border-top-color: var(--fill-color);\n",
              "      border-right-color: var(--fill-color);\n",
              "    }\n",
              "    40% {\n",
              "      border-color: transparent;\n",
              "      border-right-color: var(--fill-color);\n",
              "      border-top-color: var(--fill-color);\n",
              "    }\n",
              "    60% {\n",
              "      border-color: transparent;\n",
              "      border-right-color: var(--fill-color);\n",
              "    }\n",
              "    80% {\n",
              "      border-color: transparent;\n",
              "      border-right-color: var(--fill-color);\n",
              "      border-bottom-color: var(--fill-color);\n",
              "    }\n",
              "    90% {\n",
              "      border-color: transparent;\n",
              "      border-bottom-color: var(--fill-color);\n",
              "    }\n",
              "  }\n",
              "</style>\n",
              "\n",
              "  <script>\n",
              "    async function quickchart(key) {\n",
              "      const quickchartButtonEl =\n",
              "        document.querySelector('#' + key + ' button');\n",
              "      quickchartButtonEl.disabled = true;  // To prevent multiple clicks.\n",
              "      quickchartButtonEl.classList.add('colab-df-spinner');\n",
              "      try {\n",
              "        const charts = await google.colab.kernel.invokeFunction(\n",
              "            'suggestCharts', [key], {});\n",
              "      } catch (error) {\n",
              "        console.error('Error during call to suggestCharts:', error);\n",
              "      }\n",
              "      quickchartButtonEl.classList.remove('colab-df-spinner');\n",
              "      quickchartButtonEl.classList.add('colab-df-quickchart-complete');\n",
              "    }\n",
              "    (() => {\n",
              "      let quickchartButtonEl =\n",
              "        document.querySelector('#df-c687b267-cf00-4cd0-a55a-315ea650ef3e button');\n",
              "      quickchartButtonEl.style.display =\n",
              "        google.colab.kernel.accessAllowed ? 'block' : 'none';\n",
              "    })();\n",
              "  </script>\n",
              "</div>\n",
              "    </div>\n",
              "  </div>\n"
            ]
          },
          "metadata": {},
          "execution_count": 13
        }
      ]
    },
    {
      "cell_type": "code",
      "source": [
        "import nltk\n",
        "nltk.download('wordnet')"
      ],
      "metadata": {
        "colab": {
          "base_uri": "https://localhost:8080/"
        },
        "id": "IVR8m87ERFNd",
        "outputId": "c96fea4e-1c47-4e86-b38c-c64a92f01b6c"
      },
      "execution_count": 14,
      "outputs": [
        {
          "output_type": "stream",
          "name": "stderr",
          "text": [
            "[nltk_data] Downloading package wordnet to /root/nltk_data...\n"
          ]
        },
        {
          "output_type": "execute_result",
          "data": {
            "text/plain": [
              "True"
            ]
          },
          "metadata": {},
          "execution_count": 14
        }
      ]
    },
    {
      "cell_type": "markdown",
      "source": [
        "#Normalize Sentence column by using Stemming or Lemmatization."
      ],
      "metadata": {
        "id": "WhsvIws7WjbH"
      }
    },
    {
      "cell_type": "code",
      "source": [
        "from nltk.stem.wordnet import WordNetLemmatizer\n",
        "lemmatizer = WordNetLemmatizer()"
      ],
      "metadata": {
        "id": "SMx-JpecQL3W"
      },
      "execution_count": 15,
      "outputs": []
    },
    {
      "cell_type": "code",
      "source": [
        "import nltk\n",
        "nltk.download('omw-1.4')"
      ],
      "metadata": {
        "colab": {
          "base_uri": "https://localhost:8080/"
        },
        "id": "sUHxxzPZQwj_",
        "outputId": "5d2d8f8d-ddf1-4346-d37f-11521c542ce7"
      },
      "execution_count": 16,
      "outputs": [
        {
          "output_type": "stream",
          "name": "stderr",
          "text": [
            "[nltk_data] Downloading package omw-1.4 to /root/nltk_data...\n"
          ]
        },
        {
          "output_type": "execute_result",
          "data": {
            "text/plain": [
              "True"
            ]
          },
          "metadata": {},
          "execution_count": 16
        }
      ]
    },
    {
      "cell_type": "code",
      "source": [
        "def lemmatize_words(text):\n",
        "    return \" \".join([lemmatizer.lemmatize(word) for word in text.split()])\n",
        "\n",
        "fsa[\"cleaned_sentence\"] = fsa[\"cleaned_sentence\"].apply(lambda text: lemmatize_words(text))\n",
        "fsa['cleaned_sentence'].head()"
      ],
      "metadata": {
        "colab": {
          "base_uri": "https://localhost:8080/"
        },
        "id": "_7sRp9VlQztS",
        "outputId": "9796fe63-020f-41ee-890f-3ff4f545660f"
      },
      "execution_count": 17,
      "outputs": [
        {
          "output_type": "execute_result",
          "data": {
            "text/plain": [
              "0    GeoSolutions technology leverage Benefon GPS s...\n",
              "1                          ESI low BK real possibility\n",
              "2    last quarter Componenta net sale doubled EURm ...\n",
              "3    According FinnishRussian Chamber Commerce majo...\n",
              "4    Swedish buyout firm sold remaining percent sta...\n",
              "Name: cleaned_sentence, dtype: object"
            ]
          },
          "metadata": {},
          "execution_count": 17
        }
      ]
    },
    {
      "cell_type": "markdown",
      "source": [
        "##Demonstrate use of Sentiwordnet to calculate the senti_score of each of the reviews."
      ],
      "metadata": {
        "id": "NTdwTYepFh6x"
      }
    },
    {
      "cell_type": "code",
      "source": [
        "import nltk\n",
        "from nltk.corpus import sentiwordnet as swn\n",
        "from nltk.tokenize import word_tokenize\n",
        "from nltk.stem import WordNetLemmatizer\n",
        "\n",
        "# Download necessary resources if not already installed\n",
        "nltk.download('punkt')\n",
        "nltk.download('sentiwordnet')\n",
        "nltk.download('averaged_perceptron_tagger')\n",
        "nltk.download('wordnet')\n"
      ],
      "metadata": {
        "colab": {
          "base_uri": "https://localhost:8080/"
        },
        "id": "83uUeSyRFhIH",
        "outputId": "d6598208-58d6-4988-ab27-e8525895663d"
      },
      "execution_count": 20,
      "outputs": [
        {
          "output_type": "stream",
          "name": "stderr",
          "text": [
            "[nltk_data] Downloading package punkt to /root/nltk_data...\n",
            "[nltk_data]   Package punkt is already up-to-date!\n",
            "[nltk_data] Downloading package sentiwordnet to /root/nltk_data...\n",
            "[nltk_data]   Package sentiwordnet is already up-to-date!\n",
            "[nltk_data] Downloading package averaged_perceptron_tagger to\n",
            "[nltk_data]     /root/nltk_data...\n",
            "[nltk_data]   Package averaged_perceptron_tagger is already up-to-\n",
            "[nltk_data]       date!\n",
            "[nltk_data] Downloading package wordnet to /root/nltk_data...\n",
            "[nltk_data]   Package wordnet is already up-to-date!\n"
          ]
        },
        {
          "output_type": "execute_result",
          "data": {
            "text/plain": [
              "True"
            ]
          },
          "metadata": {},
          "execution_count": 20
        }
      ]
    },
    {
      "cell_type": "code",
      "source": [
        "lemmatizer = WordNetLemmatizer()\n",
        "\n",
        "# Define a function to calculate sentiment scores\n",
        "def calculate_sentiment_score(sentence):\n",
        "    tokens = word_tokenize(sentence)\n",
        "    total_sentiment_score = 0.0\n",
        "    for token in tokens:\n",
        "        pos_tag = nltk.pos_tag([token])[0][1][0].upper()\n",
        "        if pos_tag == 'J':\n",
        "            pos = 'a'  # Adjective\n",
        "        elif pos_tag == 'V':\n",
        "            pos = 'v'  # Verb\n",
        "        elif pos_tag == 'N':\n",
        "            pos = 'n'  # Noun\n",
        "        elif pos_tag == 'R':\n",
        "            pos = 'r'  # Adverb\n",
        "        else:\n",
        "            pos = None\n",
        "        if pos:\n",
        "            lemma = lemmatizer.lemmatize(token, pos)\n",
        "            synsets = list(swn.senti_synsets(lemma, pos))\n",
        "            if synsets:\n",
        "                sentiment_score = synsets[0].pos_score() - synsets[0].neg_score()\n",
        "                total_sentiment_score += sentiment_score\n",
        "    return total_sentiment_score\n",
        "\n",
        "# Apply the sentiment analysis function to the dataset\n",
        "fsa['Sentiment_Score'] = fsa['cleaned_sentence'].apply(calculate_sentiment_score)\n"
      ],
      "metadata": {
        "id": "gabPmuSvFhKa"
      },
      "execution_count": 21,
      "outputs": []
    },
    {
      "cell_type": "code",
      "source": [
        "fsa['Sentiment_Score']"
      ],
      "metadata": {
        "colab": {
          "base_uri": "https://localhost:8080/"
        },
        "id": "wGcazhc_GmgG",
        "outputId": "ec4d5713-72b4-4c9c-fbfa-351520687c6a"
      },
      "execution_count": 22,
      "outputs": [
        {
          "output_type": "execute_result",
          "data": {
            "text/plain": [
              "0       0.625\n",
              "1      -0.250\n",
              "2      -0.375\n",
              "3       0.500\n",
              "4       0.000\n",
              "        ...  \n",
              "5837    0.250\n",
              "5838    0.125\n",
              "5839    0.625\n",
              "5840    0.375\n",
              "5841    0.000\n",
              "Name: Sentiment_Score, Length: 5842, dtype: float64"
            ]
          },
          "metadata": {},
          "execution_count": 22
        }
      ]
    },
    {
      "cell_type": "code",
      "source": [
        "# Classify sentiment based on scores\n",
        "def classify_sentiment(score):\n",
        "    if score > 0:\n",
        "        return 'positive'\n",
        "    elif score < 0:\n",
        "        return 'negative'\n",
        "    else:\n",
        "        return 'neutral'\n",
        "\n",
        "fsa['Predicted_Sentiment'] = fsa['Sentiment_Score'].apply(classify_sentiment)\n",
        "\n",
        "# Print the result\n",
        "print(fsa[['Sentence', 'Sentiment', 'Predicted_Sentiment']])"
      ],
      "metadata": {
        "colab": {
          "base_uri": "https://localhost:8080/"
        },
        "id": "3sY-fjC-FhM2",
        "outputId": "74e521ba-8187-4c6a-9d88-82675685ba1b"
      },
      "execution_count": 23,
      "outputs": [
        {
          "output_type": "stream",
          "name": "stdout",
          "text": [
            "                                               Sentence Sentiment  \\\n",
            "0     The GeoSolutions technology will leverage Bene...  positive   \n",
            "1     $ESI on lows, down $1.50 to $2.50 BK a real po...  negative   \n",
            "2     For the last quarter of 2010 , Componenta 's n...  positive   \n",
            "3     According to the Finnish-Russian Chamber of Co...   neutral   \n",
            "4     The Swedish buyout firm has sold its remaining...   neutral   \n",
            "...                                                 ...       ...   \n",
            "5837  RISING costs have forced packaging producer Hu...  negative   \n",
            "5838  Nordic Walking was first used as a summer trai...   neutral   \n",
            "5839  According shipping company Viking Line , the E...   neutral   \n",
            "5840  In the building and home improvement trade , s...   neutral   \n",
            "5841  HELSINKI AFX - KCI Konecranes said it has won ...  positive   \n",
            "\n",
            "     Predicted_Sentiment  \n",
            "0               positive  \n",
            "1               negative  \n",
            "2               negative  \n",
            "3               positive  \n",
            "4                neutral  \n",
            "...                  ...  \n",
            "5837            positive  \n",
            "5838            positive  \n",
            "5839            positive  \n",
            "5840            positive  \n",
            "5841             neutral  \n",
            "\n",
            "[5842 rows x 3 columns]\n"
          ]
        }
      ]
    },
    {
      "cell_type": "code",
      "source": [
        "fsa.head(5)"
      ],
      "metadata": {
        "colab": {
          "base_uri": "https://localhost:8080/",
          "height": 206
        },
        "id": "b7QJ-3EDFhPF",
        "outputId": "572d5e5c-5b14-4944-96a6-da8c57f97185"
      },
      "execution_count": 24,
      "outputs": [
        {
          "output_type": "execute_result",
          "data": {
            "text/plain": [
              "                                            Sentence Sentiment  \\\n",
              "0  The GeoSolutions technology will leverage Bene...  positive   \n",
              "1  $ESI on lows, down $1.50 to $2.50 BK a real po...  negative   \n",
              "2  For the last quarter of 2010 , Componenta 's n...  positive   \n",
              "3  According to the Finnish-Russian Chamber of Co...   neutral   \n",
              "4  The Swedish buyout firm has sold its remaining...   neutral   \n",
              "\n",
              "                                    cleaned_sentence  Sentiment_Score  \\\n",
              "0  GeoSolutions technology leverage Benefon GPS s...            0.625   \n",
              "1                        ESI low BK real possibility           -0.250   \n",
              "2  last quarter Componenta net sale doubled EURm ...           -0.375   \n",
              "3  According FinnishRussian Chamber Commerce majo...            0.500   \n",
              "4  Swedish buyout firm sold remaining percent sta...            0.000   \n",
              "\n",
              "  Predicted_Sentiment  \n",
              "0            positive  \n",
              "1            negative  \n",
              "2            negative  \n",
              "3            positive  \n",
              "4             neutral  "
            ],
            "text/html": [
              "\n",
              "  <div id=\"df-b0dce783-5926-4bb1-8bd5-3fc9a092d154\" class=\"colab-df-container\">\n",
              "    <div>\n",
              "<style scoped>\n",
              "    .dataframe tbody tr th:only-of-type {\n",
              "        vertical-align: middle;\n",
              "    }\n",
              "\n",
              "    .dataframe tbody tr th {\n",
              "        vertical-align: top;\n",
              "    }\n",
              "\n",
              "    .dataframe thead th {\n",
              "        text-align: right;\n",
              "    }\n",
              "</style>\n",
              "<table border=\"1\" class=\"dataframe\">\n",
              "  <thead>\n",
              "    <tr style=\"text-align: right;\">\n",
              "      <th></th>\n",
              "      <th>Sentence</th>\n",
              "      <th>Sentiment</th>\n",
              "      <th>cleaned_sentence</th>\n",
              "      <th>Sentiment_Score</th>\n",
              "      <th>Predicted_Sentiment</th>\n",
              "    </tr>\n",
              "  </thead>\n",
              "  <tbody>\n",
              "    <tr>\n",
              "      <th>0</th>\n",
              "      <td>The GeoSolutions technology will leverage Bene...</td>\n",
              "      <td>positive</td>\n",
              "      <td>GeoSolutions technology leverage Benefon GPS s...</td>\n",
              "      <td>0.625</td>\n",
              "      <td>positive</td>\n",
              "    </tr>\n",
              "    <tr>\n",
              "      <th>1</th>\n",
              "      <td>$ESI on lows, down $1.50 to $2.50 BK a real po...</td>\n",
              "      <td>negative</td>\n",
              "      <td>ESI low BK real possibility</td>\n",
              "      <td>-0.250</td>\n",
              "      <td>negative</td>\n",
              "    </tr>\n",
              "    <tr>\n",
              "      <th>2</th>\n",
              "      <td>For the last quarter of 2010 , Componenta 's n...</td>\n",
              "      <td>positive</td>\n",
              "      <td>last quarter Componenta net sale doubled EURm ...</td>\n",
              "      <td>-0.375</td>\n",
              "      <td>negative</td>\n",
              "    </tr>\n",
              "    <tr>\n",
              "      <th>3</th>\n",
              "      <td>According to the Finnish-Russian Chamber of Co...</td>\n",
              "      <td>neutral</td>\n",
              "      <td>According FinnishRussian Chamber Commerce majo...</td>\n",
              "      <td>0.500</td>\n",
              "      <td>positive</td>\n",
              "    </tr>\n",
              "    <tr>\n",
              "      <th>4</th>\n",
              "      <td>The Swedish buyout firm has sold its remaining...</td>\n",
              "      <td>neutral</td>\n",
              "      <td>Swedish buyout firm sold remaining percent sta...</td>\n",
              "      <td>0.000</td>\n",
              "      <td>neutral</td>\n",
              "    </tr>\n",
              "  </tbody>\n",
              "</table>\n",
              "</div>\n",
              "    <div class=\"colab-df-buttons\">\n",
              "\n",
              "  <div class=\"colab-df-container\">\n",
              "    <button class=\"colab-df-convert\" onclick=\"convertToInteractive('df-b0dce783-5926-4bb1-8bd5-3fc9a092d154')\"\n",
              "            title=\"Convert this dataframe to an interactive table.\"\n",
              "            style=\"display:none;\">\n",
              "\n",
              "  <svg xmlns=\"http://www.w3.org/2000/svg\" height=\"24px\" viewBox=\"0 -960 960 960\">\n",
              "    <path d=\"M120-120v-720h720v720H120Zm60-500h600v-160H180v160Zm220 220h160v-160H400v160Zm0 220h160v-160H400v160ZM180-400h160v-160H180v160Zm440 0h160v-160H620v160ZM180-180h160v-160H180v160Zm440 0h160v-160H620v160Z\"/>\n",
              "  </svg>\n",
              "    </button>\n",
              "\n",
              "  <style>\n",
              "    .colab-df-container {\n",
              "      display:flex;\n",
              "      gap: 12px;\n",
              "    }\n",
              "\n",
              "    .colab-df-convert {\n",
              "      background-color: #E8F0FE;\n",
              "      border: none;\n",
              "      border-radius: 50%;\n",
              "      cursor: pointer;\n",
              "      display: none;\n",
              "      fill: #1967D2;\n",
              "      height: 32px;\n",
              "      padding: 0 0 0 0;\n",
              "      width: 32px;\n",
              "    }\n",
              "\n",
              "    .colab-df-convert:hover {\n",
              "      background-color: #E2EBFA;\n",
              "      box-shadow: 0px 1px 2px rgba(60, 64, 67, 0.3), 0px 1px 3px 1px rgba(60, 64, 67, 0.15);\n",
              "      fill: #174EA6;\n",
              "    }\n",
              "\n",
              "    .colab-df-buttons div {\n",
              "      margin-bottom: 4px;\n",
              "    }\n",
              "\n",
              "    [theme=dark] .colab-df-convert {\n",
              "      background-color: #3B4455;\n",
              "      fill: #D2E3FC;\n",
              "    }\n",
              "\n",
              "    [theme=dark] .colab-df-convert:hover {\n",
              "      background-color: #434B5C;\n",
              "      box-shadow: 0px 1px 3px 1px rgba(0, 0, 0, 0.15);\n",
              "      filter: drop-shadow(0px 1px 2px rgba(0, 0, 0, 0.3));\n",
              "      fill: #FFFFFF;\n",
              "    }\n",
              "  </style>\n",
              "\n",
              "    <script>\n",
              "      const buttonEl =\n",
              "        document.querySelector('#df-b0dce783-5926-4bb1-8bd5-3fc9a092d154 button.colab-df-convert');\n",
              "      buttonEl.style.display =\n",
              "        google.colab.kernel.accessAllowed ? 'block' : 'none';\n",
              "\n",
              "      async function convertToInteractive(key) {\n",
              "        const element = document.querySelector('#df-b0dce783-5926-4bb1-8bd5-3fc9a092d154');\n",
              "        const dataTable =\n",
              "          await google.colab.kernel.invokeFunction('convertToInteractive',\n",
              "                                                    [key], {});\n",
              "        if (!dataTable) return;\n",
              "\n",
              "        const docLinkHtml = 'Like what you see? Visit the ' +\n",
              "          '<a target=\"_blank\" href=https://colab.research.google.com/notebooks/data_table.ipynb>data table notebook</a>'\n",
              "          + ' to learn more about interactive tables.';\n",
              "        element.innerHTML = '';\n",
              "        dataTable['output_type'] = 'display_data';\n",
              "        await google.colab.output.renderOutput(dataTable, element);\n",
              "        const docLink = document.createElement('div');\n",
              "        docLink.innerHTML = docLinkHtml;\n",
              "        element.appendChild(docLink);\n",
              "      }\n",
              "    </script>\n",
              "  </div>\n",
              "\n",
              "\n",
              "<div id=\"df-da2d2df3-229a-405b-bb98-a8b63cf15d65\">\n",
              "  <button class=\"colab-df-quickchart\" onclick=\"quickchart('df-da2d2df3-229a-405b-bb98-a8b63cf15d65')\"\n",
              "            title=\"Suggest charts.\"\n",
              "            style=\"display:none;\">\n",
              "\n",
              "<svg xmlns=\"http://www.w3.org/2000/svg\" height=\"24px\"viewBox=\"0 0 24 24\"\n",
              "     width=\"24px\">\n",
              "    <g>\n",
              "        <path d=\"M19 3H5c-1.1 0-2 .9-2 2v14c0 1.1.9 2 2 2h14c1.1 0 2-.9 2-2V5c0-1.1-.9-2-2-2zM9 17H7v-7h2v7zm4 0h-2V7h2v10zm4 0h-2v-4h2v4z\"/>\n",
              "    </g>\n",
              "</svg>\n",
              "  </button>\n",
              "\n",
              "<style>\n",
              "  .colab-df-quickchart {\n",
              "      --bg-color: #E8F0FE;\n",
              "      --fill-color: #1967D2;\n",
              "      --hover-bg-color: #E2EBFA;\n",
              "      --hover-fill-color: #174EA6;\n",
              "      --disabled-fill-color: #AAA;\n",
              "      --disabled-bg-color: #DDD;\n",
              "  }\n",
              "\n",
              "  [theme=dark] .colab-df-quickchart {\n",
              "      --bg-color: #3B4455;\n",
              "      --fill-color: #D2E3FC;\n",
              "      --hover-bg-color: #434B5C;\n",
              "      --hover-fill-color: #FFFFFF;\n",
              "      --disabled-bg-color: #3B4455;\n",
              "      --disabled-fill-color: #666;\n",
              "  }\n",
              "\n",
              "  .colab-df-quickchart {\n",
              "    background-color: var(--bg-color);\n",
              "    border: none;\n",
              "    border-radius: 50%;\n",
              "    cursor: pointer;\n",
              "    display: none;\n",
              "    fill: var(--fill-color);\n",
              "    height: 32px;\n",
              "    padding: 0;\n",
              "    width: 32px;\n",
              "  }\n",
              "\n",
              "  .colab-df-quickchart:hover {\n",
              "    background-color: var(--hover-bg-color);\n",
              "    box-shadow: 0 1px 2px rgba(60, 64, 67, 0.3), 0 1px 3px 1px rgba(60, 64, 67, 0.15);\n",
              "    fill: var(--button-hover-fill-color);\n",
              "  }\n",
              "\n",
              "  .colab-df-quickchart-complete:disabled,\n",
              "  .colab-df-quickchart-complete:disabled:hover {\n",
              "    background-color: var(--disabled-bg-color);\n",
              "    fill: var(--disabled-fill-color);\n",
              "    box-shadow: none;\n",
              "  }\n",
              "\n",
              "  .colab-df-spinner {\n",
              "    border: 2px solid var(--fill-color);\n",
              "    border-color: transparent;\n",
              "    border-bottom-color: var(--fill-color);\n",
              "    animation:\n",
              "      spin 1s steps(1) infinite;\n",
              "  }\n",
              "\n",
              "  @keyframes spin {\n",
              "    0% {\n",
              "      border-color: transparent;\n",
              "      border-bottom-color: var(--fill-color);\n",
              "      border-left-color: var(--fill-color);\n",
              "    }\n",
              "    20% {\n",
              "      border-color: transparent;\n",
              "      border-left-color: var(--fill-color);\n",
              "      border-top-color: var(--fill-color);\n",
              "    }\n",
              "    30% {\n",
              "      border-color: transparent;\n",
              "      border-left-color: var(--fill-color);\n",
              "      border-top-color: var(--fill-color);\n",
              "      border-right-color: var(--fill-color);\n",
              "    }\n",
              "    40% {\n",
              "      border-color: transparent;\n",
              "      border-right-color: var(--fill-color);\n",
              "      border-top-color: var(--fill-color);\n",
              "    }\n",
              "    60% {\n",
              "      border-color: transparent;\n",
              "      border-right-color: var(--fill-color);\n",
              "    }\n",
              "    80% {\n",
              "      border-color: transparent;\n",
              "      border-right-color: var(--fill-color);\n",
              "      border-bottom-color: var(--fill-color);\n",
              "    }\n",
              "    90% {\n",
              "      border-color: transparent;\n",
              "      border-bottom-color: var(--fill-color);\n",
              "    }\n",
              "  }\n",
              "</style>\n",
              "\n",
              "  <script>\n",
              "    async function quickchart(key) {\n",
              "      const quickchartButtonEl =\n",
              "        document.querySelector('#' + key + ' button');\n",
              "      quickchartButtonEl.disabled = true;  // To prevent multiple clicks.\n",
              "      quickchartButtonEl.classList.add('colab-df-spinner');\n",
              "      try {\n",
              "        const charts = await google.colab.kernel.invokeFunction(\n",
              "            'suggestCharts', [key], {});\n",
              "      } catch (error) {\n",
              "        console.error('Error during call to suggestCharts:', error);\n",
              "      }\n",
              "      quickchartButtonEl.classList.remove('colab-df-spinner');\n",
              "      quickchartButtonEl.classList.add('colab-df-quickchart-complete');\n",
              "    }\n",
              "    (() => {\n",
              "      let quickchartButtonEl =\n",
              "        document.querySelector('#df-da2d2df3-229a-405b-bb98-a8b63cf15d65 button');\n",
              "      quickchartButtonEl.style.display =\n",
              "        google.colab.kernel.accessAllowed ? 'block' : 'none';\n",
              "    })();\n",
              "  </script>\n",
              "</div>\n",
              "    </div>\n",
              "  </div>\n"
            ]
          },
          "metadata": {},
          "execution_count": 24
        }
      ]
    },
    {
      "cell_type": "code",
      "source": [
        "fsa['Sentence'][0]"
      ],
      "metadata": {
        "colab": {
          "base_uri": "https://localhost:8080/",
          "height": 52
        },
        "id": "ae2RwZNIFhSf",
        "outputId": "c614024b-5594-4072-9d5d-9ed4ae1974a8"
      },
      "execution_count": 32,
      "outputs": [
        {
          "output_type": "execute_result",
          "data": {
            "text/plain": [
              "\"The GeoSolutions technology will leverage Benefon 's GPS solutions by providing Location Based Search Technology , a Communities Platform , location relevant multimedia content and a new and powerful commercial model .\""
            ],
            "application/vnd.google.colaboratory.intrinsic+json": {
              "type": "string"
            }
          },
          "metadata": {},
          "execution_count": 32
        }
      ]
    },
    {
      "cell_type": "markdown",
      "source": [
        "##Take some sample reviews from the dataset and demonstrate the following:"
      ],
      "metadata": {
        "id": "-dL_xx-pHu_w"
      }
    },
    {
      "cell_type": "code",
      "source": [
        "from nltk.corpus import wordnet as wn\n",
        "\n",
        "# Sample words from the dataset\n",
        "sample_words = [\"technology\", \"real\", \"sale\", \"Chamber\", \"percent\"]\n"
      ],
      "metadata": {
        "id": "WeYq5SQsHwNu"
      },
      "execution_count": 26,
      "outputs": []
    },
    {
      "cell_type": "markdown",
      "source": [
        "## A.Synsets\n"
      ],
      "metadata": {
        "id": "pBBDUREcI8dm"
      }
    },
    {
      "cell_type": "code",
      "source": [
        "# Synsets for each word\n",
        "synsets = {}\n",
        "for word in sample_words:\n",
        "    synsets[word] = wn.synsets(word)\n",
        "\n",
        "\n",
        "# Print the results\n",
        "print(\"Synsets:\")\n",
        "for word, synset_list in synsets.items():\n",
        "    print(f\"{word}: {synset_list}\")"
      ],
      "metadata": {
        "colab": {
          "base_uri": "https://localhost:8080/"
        },
        "id": "Zur2JdueIkw_",
        "outputId": "c6540615-c061-48dc-acf1-01cf4a8d7da6"
      },
      "execution_count": 27,
      "outputs": [
        {
          "output_type": "stream",
          "name": "stdout",
          "text": [
            "Synsets:\n",
            "technology: [Synset('technology.n.01'), Synset('engineering.n.02')]\n",
            "real: [Synset('real_number.n.01'), Synset('real.n.02'), Synset('real.n.03'), Synset('real.a.01'), Synset('real.a.02'), Synset('real.s.03'), Synset('real.s.04'), Synset('actual.s.03'), Synset('real.a.06'), Synset('substantial.a.03'), Synset('real.s.08'), Synset('veridical.s.01'), Synset('very.r.01')]\n",
            "sale: [Synset('sale.n.01'), Synset('sale.n.02'), Synset('sale.n.03'), Synset('sale.n.04'), Synset('sale.n.05')]\n",
            "Chamber: [Synset('chamber.n.01'), Synset('chamber.n.02'), Synset('chamber.n.03'), Synset('chamber.n.04'), Synset('bedroom.n.01'), Synset('chamber.v.01')]\n",
            "percent: [Synset('percentage.n.01')]\n"
          ]
        }
      ]
    },
    {
      "cell_type": "markdown",
      "source": [
        "## B.Synonyms and Antonyms\n"
      ],
      "metadata": {
        "id": "0T-It9mKJAXp"
      }
    },
    {
      "cell_type": "code",
      "source": [
        "# Synonyms and Antonyms\n",
        "synonyms_antonyms = {}\n",
        "for word in sample_words:\n",
        "    synonyms = []\n",
        "    antonyms = []\n",
        "    for synset in synsets[word]:\n",
        "        for lemma in synset.lemmas():\n",
        "            synonyms.append(lemma.name())\n",
        "            if lemma.antonyms():\n",
        "                antonyms.append(lemma.antonyms()[0].name())\n",
        "    synonyms_antonyms[word] = {\n",
        "        \"Synonyms\": list(set(synonyms)),  # Remove duplicates\n",
        "        \"Antonyms\": list(set(antonyms)),  # Remove duplicates\n",
        "    }\n",
        "\n",
        "print(\"\\nSynonyms and Antonyms:\")\n",
        "for word, sa in synonyms_antonyms.items():\n",
        "    print(f\"{word} - Synonyms: {', '.join(sa['Synonyms'])}, Antonyms: {', '.join(sa['Antonyms'])}\")\n"
      ],
      "metadata": {
        "colab": {
          "base_uri": "https://localhost:8080/"
        },
        "id": "_5RjnrQtHwQE",
        "outputId": "58065f19-ac0e-4f71-81a6-60dfc6db6248"
      },
      "execution_count": 28,
      "outputs": [
        {
          "output_type": "stream",
          "name": "stdout",
          "text": [
            "\n",
            "Synonyms and Antonyms:\n",
            "technology - Synonyms: technology, applied_science, engineering_science, engineering, Antonyms: \n",
            "real - Synonyms: actual, existent, very, real, literal, rattling, substantial, real_number, really, genuine, tangible, veridical, material, Antonyms: unreal, nominal, insubstantial\n",
            "sale - Synonyms: sales_agreement, sale, cut-rate_sale, sales_event, Antonyms: \n",
            "Chamber - Synonyms: sleeping_room, sleeping_accommodation, chamber, bedchamber, bedroom, Antonyms: \n",
            "percent - Synonyms: per_centum, percentage, pct, percent, Antonyms: \n"
          ]
        }
      ]
    },
    {
      "cell_type": "markdown",
      "source": [
        "## C.Hyponym and Hypernym\n"
      ],
      "metadata": {
        "id": "_AynkZ0TJEhy"
      }
    },
    {
      "cell_type": "code",
      "source": [
        "# Hyponyms and Hypernyms\n",
        "hyponyms_hypernyms = {}\n",
        "for word in sample_words:\n",
        "    hyponyms = []\n",
        "    hypernyms = []\n",
        "    for synset in synsets[word]:\n",
        "        hyponyms.extend(s.name() for s in synset.hyponyms())\n",
        "        hypernyms.extend(s.name() for s in synset.hypernyms())\n",
        "    hyponyms_hypernyms[word] = {\n",
        "        \"Hyponyms\": list(set(hyponyms)),  # Remove duplicates\n",
        "        \"Hypernyms\": list(set(hypernyms)),  # Remove duplicates\n",
        "    }\n",
        "\n",
        "print(\"\\nHyponyms and Hypernyms:\")\n",
        "for word, hh in hyponyms_hypernyms.items():\n",
        "    print(f\"{word} - Hyponyms: {', '.join(hh['Hyponyms'])}, Hypernyms: {', '.join(hh['Hypernyms'])}\")\n"
      ],
      "metadata": {
        "colab": {
          "base_uri": "https://localhost:8080/"
        },
        "id": "Vz5_p8QbHwUo",
        "outputId": "51269f3d-282c-4761-9bfe-4f5afa48655d"
      },
      "execution_count": 29,
      "outputs": [
        {
          "output_type": "stream",
          "name": "stdout",
          "text": [
            "\n",
            "Hyponyms and Hypernyms:\n",
            "technology - Hyponyms: bionics.n.01, aeronautical_engineering.n.02, chemical_engineering.n.02, aeronautical_engineering.n.01, biotechnology.n.02, computer_technology.n.01, rocketry.n.01, chemical_engineering.n.01, nanotechnology.n.01, architectural_engineering.n.01, communications_technology.n.01, civil_engineering.n.01, automotive_technology.n.01, nuclear_engineering.n.01, information_technology.n.01, naval_engineering.n.01, rail_technology.n.01, electrical_engineering.n.01, computer_science.n.01, high_technology.n.01, industrial_engineering.n.01, mechanical_engineering.n.01, Hypernyms: application.n.01, discipline.n.01, profession.n.02\n",
            "real - Hyponyms: irrational_number.n.01, scalar_product.n.01, rational_number.n.01, Hypernyms: complex_number.n.01, brazilian_monetary_unit.n.01, coin.n.01\n",
            "sale - Hyponyms: sell.n.01, closeout.n.01, bazaar.n.03, car_boot_sale.n.01, fire_sale.n.01, white_sale.n.01, going-out-of-business_sale.n.01, realization.n.04, fire_sale.n.02, clearance_sale.n.01, garage_sale.n.01, rummage_sale.n.01, conditional_sale.n.02, selloff.n.01, sheriff's_sale.n.01, divestiture.n.02, auction.n.02, Hypernyms: selling.n.01, occasion.n.05, agreement.n.01, merchantability.n.01\n",
            "Chamber - Hyponyms: steam_chest.n.01, ventricle.n.02, master_bedroom.n.01, stuffing_box.n.01, child's_room.n.01, burial_chamber.n.01, hotel_room.n.01, stokehold.n.01, divan.n.04, motel_room.n.01, airlock.n.01, core.n.09, cylinder.n.03, furnace.n.01, resonator.n.01, dormitory.n.02, bomb_shelter.n.01, hyperbaric_chamber.n.01, particle_detector.n.01, camera_obscura.n.01, guestroom.n.01, vacuum_chamber.n.01, caisson.n.04, tokamak.n.01, boudoir.n.01, firing_chamber.n.01, atrium.n.01, Hypernyms: house.v.02, room.n.01, enclosure.n.01, assembly.n.04, cavity.n.04\n",
            "percent - Hyponyms: occupancy_rate.n.01, vacancy_rate.n.01, absentee_rate.n.01, unemployment_rate.n.01, Hypernyms: proportion.n.01\n"
          ]
        }
      ]
    },
    {
      "cell_type": "markdown",
      "source": [
        "## D.Wordnet path similarity\n"
      ],
      "metadata": {
        "id": "V4i7f5jXJJ8O"
      }
    },
    {
      "cell_type": "code",
      "source": [
        "# WordNet Path Similarity\n",
        "path_similarity = {}\n",
        "for word1 in sample_words:\n",
        "    path_similarity[word1] = {}\n",
        "    for word2 in sample_words:\n",
        "        similarity = None\n",
        "        if word1 != word2:\n",
        "            max_similarity = 0\n",
        "            for synset1 in synsets[word1]:\n",
        "                for synset2 in synsets[word2]:\n",
        "                    current_similarity = wn.path_similarity(synset1, synset2)\n",
        "                    if current_similarity and current_similarity > max_similarity:\n",
        "                        max_similarity = current_similarity\n",
        "            similarity = max_similarity\n",
        "        path_similarity[word1][word2] = similarity\n",
        "\n",
        "print(\"\\nWordNet Path Similarity:\")\n",
        "for word1, similarities in path_similarity.items():\n",
        "    print(f\"{word1}:\")\n",
        "    for word2, similarity in similarities.items():\n",
        "        print(f\"  {word2}: {similarity}\")\n",
        "\n"
      ],
      "metadata": {
        "colab": {
          "base_uri": "https://localhost:8080/"
        },
        "id": "PZMQqVXsHwXG",
        "outputId": "f676aa18-d0d9-4830-d5dc-ce66827453cf"
      },
      "execution_count": 30,
      "outputs": [
        {
          "output_type": "stream",
          "name": "stdout",
          "text": [
            "\n",
            "WordNet Path Similarity:\n",
            "technology:\n",
            "  technology: None\n",
            "  real: 0.1\n",
            "  sale: 0.1\n",
            "  Chamber: 0.08333333333333333\n",
            "  percent: 0.07692307692307693\n",
            "real:\n",
            "  technology: 0.1\n",
            "  real: None\n",
            "  sale: 0.125\n",
            "  Chamber: 0.125\n",
            "  percent: 0.1\n",
            "sale:\n",
            "  technology: 0.1\n",
            "  real: 0.125\n",
            "  sale: None\n",
            "  Chamber: 0.1\n",
            "  percent: 0.09090909090909091\n",
            "Chamber:\n",
            "  technology: 0.08333333333333333\n",
            "  real: 0.125\n",
            "  sale: 0.1\n",
            "  Chamber: None\n",
            "  percent: 0.08333333333333333\n",
            "percent:\n",
            "  technology: 0.07692307692307693\n",
            "  real: 0.1\n",
            "  sale: 0.09090909090909091\n",
            "  Chamber: 0.08333333333333333\n",
            "  percent: None\n"
          ]
        }
      ]
    },
    {
      "cell_type": "markdown",
      "source": [
        "## E.Word sense disambiguation"
      ],
      "metadata": {
        "id": "fReuB3VrJNQO"
      }
    },
    {
      "cell_type": "markdown",
      "source": [
        "Note that the code assumes context sentences for word sense disambiguation."
      ],
      "metadata": {
        "id": "LJ6hoUxTJV-O"
      }
    },
    {
      "cell_type": "code",
      "source": [
        "# Word Sense Disambiguation\n",
        "word_sense_disambiguation = {}\n",
        "context_sentence = \"The technology company is experiencing real growth in its sale.\"\n",
        "for word in sample_words:\n",
        "    word_sense_disambiguation[word] = {}\n",
        "    for synset in synsets[word]:\n",
        "        word_sense_disambiguation[word][synset] = synset.definition()\n",
        "\n",
        "print(\"\\nWord Sense Disambiguation (Context Sentence):\")\n",
        "print(context_sentence)\n",
        "for word, senses in word_sense_disambiguation.items():\n",
        "    print(f\"{word}:\")\n",
        "    for synset, definition in senses.items():\n",
        "        print(f\"  Sense: {synset}, Definition: {definition}\")\n"
      ],
      "metadata": {
        "colab": {
          "base_uri": "https://localhost:8080/"
        },
        "id": "e5y82AUFHwZ6",
        "outputId": "a5369018-4690-4f33-b914-b3ae6c3a2e2f"
      },
      "execution_count": 31,
      "outputs": [
        {
          "output_type": "stream",
          "name": "stdout",
          "text": [
            "\n",
            "Word Sense Disambiguation (Context Sentence):\n",
            "The technology company is experiencing real growth in its sale.\n",
            "technology:\n",
            "  Sense: Synset('technology.n.01'), Definition: the practical application of science to commerce or industry\n",
            "  Sense: Synset('engineering.n.02'), Definition: the discipline dealing with the art or science of applying scientific knowledge to practical problems\n",
            "real:\n",
            "  Sense: Synset('real_number.n.01'), Definition: any rational or irrational number\n",
            "  Sense: Synset('real.n.02'), Definition: the basic unit of money in Brazil; equal to 100 centavos\n",
            "  Sense: Synset('real.n.03'), Definition: an old small silver Spanish coin\n",
            "  Sense: Synset('real.a.01'), Definition: being or occurring in fact or actuality; having verified existence; not illusory; ; ; ; ; ; - Longfellow\n",
            "  Sense: Synset('real.a.02'), Definition: no less than what is stated; worthy of the name\n",
            "  Sense: Synset('real.s.03'), Definition: not to be taken lightly\n",
            "  Sense: Synset('real.s.04'), Definition: capable of being treated as fact\n",
            "  Sense: Synset('actual.s.03'), Definition: being or reflecting the essential or genuine character of something; ; - G.K.Chesterton\n",
            "  Sense: Synset('real.a.06'), Definition: of, relating to, or representing an amount that is corrected for inflation\n",
            "  Sense: Synset('substantial.a.03'), Definition: having substance or capable of being treated as fact; not imaginary; ; ; - Shakespeare\n",
            "  Sense: Synset('real.s.08'), Definition: (of property) fixed or immovable\n",
            "  Sense: Synset('veridical.s.01'), Definition: coinciding with reality; - F.A.Olafson\n",
            "  Sense: Synset('very.r.01'), Definition: used as intensifiers; `real' is sometimes used informally for `really'; `rattling' is informal\n",
            "sale:\n",
            "  Sense: Synset('sale.n.01'), Definition: a particular instance of selling\n",
            "  Sense: Synset('sale.n.02'), Definition: the general activity of selling\n",
            "  Sense: Synset('sale.n.03'), Definition: an occasion (usually brief) for buying at specially reduced prices\n",
            "  Sense: Synset('sale.n.04'), Definition: the state of being purchasable; offered or exhibited for selling\n",
            "  Sense: Synset('sale.n.05'), Definition: an agreement (or contract) in which property is transferred from the seller (vendor) to the buyer (vendee) for a fixed price in money (paid or agreed to be paid by the buyer)\n",
            "Chamber:\n",
            "  Sense: Synset('chamber.n.01'), Definition: a natural or artificial enclosed space\n",
            "  Sense: Synset('chamber.n.02'), Definition: an enclosed volume in the body\n",
            "  Sense: Synset('chamber.n.03'), Definition: a room where a judge transacts business\n",
            "  Sense: Synset('chamber.n.04'), Definition: a deliberative or legislative or administrative or judicial assembly\n",
            "  Sense: Synset('bedroom.n.01'), Definition: a room used primarily for sleeping\n",
            "  Sense: Synset('chamber.v.01'), Definition: place in a chamber\n",
            "percent:\n",
            "  Sense: Synset('percentage.n.01'), Definition: a proportion in relation to a whole (which is usually the amount per hundred)\n"
          ]
        }
      ]
    },
    {
      "cell_type": "code",
      "source": [],
      "metadata": {
        "id": "w55LGkunHwdV"
      },
      "execution_count": null,
      "outputs": []
    },
    {
      "cell_type": "code",
      "source": [],
      "metadata": {
        "id": "WMWJ2gv-zrX4"
      },
      "execution_count": null,
      "outputs": []
    }
  ]
}